{
 "cells": [
  {
   "cell_type": "code",
   "execution_count": 6,
   "id": "ddc69099-86a9-4318-9a92-a9caa3a8a5d7",
   "metadata": {},
   "outputs": [],
   "source": [
    "import leafmap"
   ]
  },
  {
   "cell_type": "code",
   "execution_count": null,
   "id": "cc333848-2549-470a-b9ee-70bed46bbcd7",
   "metadata": {},
   "outputs": [],
   "source": [
    "m = leafmap.Map(\n",
    "    center=(-5, -39),\n",
    "    google_map=\"SATELLITE\",\n",
    "    zoom=7\n",
    ")\n",
    "m.add_osm_from_geocode(\"Ceará\")\n",
    "layer_name = \"CE\""
   ]
  },
  {
   "cell_type": "code",
   "execution_count": null,
   "id": "b279c985-527a-4839-a05f-34048598846b",
   "metadata": {},
   "outputs": [],
   "source": [
    "in_csv = 'https://raw.githubusercontent.com/carlosianrs/ce-states/main/ce-cities.csv'\n",
    "df = leafmap.csv_to_df(in_csv)\n",
    "df"
   ]
  },
  {
   "cell_type": "code",
   "execution_count": null,
   "id": "01ec1062-1a96-414c-8d31-0f2243f6fedc",
   "metadata": {},
   "outputs": [],
   "source": [
    "layers_dict = leafmap.planet_quarterly_tiles()\n",
    "m.add_time_slider(layers_dict, time_interval=1)"
   ]
  },
  {
   "cell_type": "code",
   "execution_count": 4,
   "id": "463dca9b-d6ef-46ad-8677-ee4beb67815f",
   "metadata": {},
   "outputs": [],
   "source": [
    "m.add_points_from_xy(\n",
    "    in_csv,\n",
    "    x=\"longitude\",\n",
    "    y=\"latitude\",\n",
    "    icon_names=['gear', 'map', 'leaf', 'globe'],\n",
    "    spin=True,\n",
    "    add_legend=True,\n",
    ")"
   ]
  },
  {
   "cell_type": "code",
   "execution_count": null,
   "id": "5306d16d",
   "metadata": {},
   "outputs": [],
   "source": [
    "m"
   ]
  }
 ],
 "metadata": {
  "kernelspec": {
   "display_name": "Python 3 (ipykernel)",
   "language": "python",
   "name": "python3"
  },
  "language_info": {
   "codemirror_mode": {
    "name": "ipython",
    "version": 3
   },
   "file_extension": ".py",
   "mimetype": "text/x-python",
   "name": "python",
   "nbconvert_exporter": "python",
   "pygments_lexer": "ipython3",
   "version": "3.9.12"
  }
 },
 "nbformat": 4,
 "nbformat_minor": 5
}
